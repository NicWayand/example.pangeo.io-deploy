{
 "cells": [
  {
   "cell_type": "code",
   "execution_count": 1,
   "metadata": {},
   "outputs": [],
   "source": [
    "%matplotlib inline\n",
    "import intake\n",
    "import xarray as xr\n",
    "import matplotlib\n",
    "import pandas as pd\n",
    "import cartopy.crs as ccrs\n",
    "import seaborn as sns\n",
    "from esio import ice_plot\n",
    "import dask"
   ]
  },
  {
   "cell_type": "code",
   "execution_count": 2,
   "metadata": {},
   "outputs": [],
   "source": [
    "def test_plot(ds_SIT):\n",
    "    ''' test spatial plot of SIT. Mean over all time dims and model dims.'''\n",
    "    cmap_sic = matplotlib.colors.ListedColormap(sns.color_palette(\"Blues_r\", 10))\n",
    "    cmap_sic.set_bad(color = 'lightgrey')\n",
    "\n",
    "    (f, ax1) = ice_plot.polar_axis()\n",
    "    f.set_size_inches(10, 5)\n",
    "\n",
    "    da = ds_SIT.mean_25km_1km.mean(dim=['model','init_end','fore_time']) \n",
    "    da.plot.pcolormesh(ax=ax1, x='lon', y='lat', \n",
    "                                         transform=ccrs.PlateCarree(),\n",
    "                                         cmap=cmap_sic,\n",
    "                                 cbar_kwargs={'label':'Sea Ice Thickness (m)'})"
   ]
  },
  {
   "cell_type": "markdown",
   "metadata": {},
   "source": [
    "### Default schedular "
   ]
  },
  {
   "cell_type": "code",
   "execution_count": null,
   "metadata": {},
   "outputs": [],
   "source": [
    "ds_SIT = intake.Catalog('./catalog.yaml').SIPN2_SIT.to_dask()\n",
    "# ds_SIT = ds_SIT.chunk({'fore_time': 72, 'init_end': 56, 'model': 6, 'x': 304, 'y': 448})"
   ]
  },
  {
   "cell_type": "code",
   "execution_count": null,
   "metadata": {},
   "outputs": [],
   "source": [
    "%time ds_SIT.mean_25km_1km.mean().values"
   ]
  },
  {
   "cell_type": "code",
   "execution_count": null,
   "metadata": {},
   "outputs": [],
   "source": [
    "%time test_plot(ds_SIT)"
   ]
  },
  {
   "cell_type": "markdown",
   "metadata": {},
   "source": [
    "### Multi thread"
   ]
  },
  {
   "cell_type": "code",
   "execution_count": 3,
   "metadata": {},
   "outputs": [
    {
     "data": {
      "text/plain": [
       "<dask.config.set at 0x7ff7e8fd2e48>"
      ]
     },
     "execution_count": 3,
     "metadata": {},
     "output_type": "execute_result"
    }
   ],
   "source": [
    "dask.config.set(scheduler='threads')"
   ]
  },
  {
   "cell_type": "code",
   "execution_count": 4,
   "metadata": {},
   "outputs": [
    {
     "data": {
      "text/plain": [
       "<xarray.Dataset>\n",
       "Dimensions:        (fore_time: 72, init_end: 56, model: 6, x: 304, y: 448)\n",
       "Coordinates:\n",
       "  * fore_time      (fore_time) timedelta64[ns] 0 days 1 days 2 days 3 days ...\n",
       "  * init_end       (init_end) datetime64[ns] 2018-02-01 2018-02-06 ...\n",
       "    lat            (x, y) float64 dask.array<shape=(304, 448), chunksize=(152, 224)>\n",
       "    lon            (x, y) float64 dask.array<shape=(304, 448), chunksize=(152, 224)>\n",
       "  * model          (model) object 'Observed' 'gfdlsipn' 'rasmesrl' ...\n",
       "Dimensions without coordinates: x, y\n",
       "Data variables:\n",
       "    mean_25km_1km  (init_end, model, fore_time, x, y) float64 dask.array<shape=(56, 6, 72, 304, 448), chunksize=(1, 1, 1, 304, 448)>"
      ]
     },
     "execution_count": 4,
     "metadata": {},
     "output_type": "execute_result"
    }
   ],
   "source": [
    "ds_SIT = intake.Catalog('./catalog.yaml').SIPN2_SIT.to_dask()\n",
    "ds_SIT"
   ]
  },
  {
   "cell_type": "code",
   "execution_count": null,
   "metadata": {},
   "outputs": [],
   "source": [
    "%time ds_SIT.mean_25km_1km.mean().values"
   ]
  },
  {
   "cell_type": "code",
   "execution_count": null,
   "metadata": {},
   "outputs": [],
   "source": [
    "%time test_plot(ds_SIT)"
   ]
  },
  {
   "cell_type": "markdown",
   "metadata": {},
   "source": [
    "### Single Machine"
   ]
  },
  {
   "cell_type": "code",
   "execution_count": null,
   "metadata": {},
   "outputs": [],
   "source": [
    "from dask.distributed import Client\n",
    "client = Client()\n",
    "client"
   ]
  },
  {
   "cell_type": "code",
   "execution_count": null,
   "metadata": {},
   "outputs": [],
   "source": [
    "ds_SIT = intake.Catalog('./catalog.yaml').SIPN2_SIT.to_dask()\n",
    "ds_SIT"
   ]
  },
  {
   "cell_type": "code",
   "execution_count": null,
   "metadata": {},
   "outputs": [],
   "source": [
    "%time test_plot(ds_SIT)"
   ]
  },
  {
   "cell_type": "markdown",
   "metadata": {},
   "source": [
    "### Distributed Cluster"
   ]
  },
  {
   "cell_type": "code",
   "execution_count": null,
   "metadata": {},
   "outputs": [],
   "source": [
    "from dask.distributed import Client, progress\n",
    "from dask_kubernetes import KubeCluster\n",
    "cluster = KubeCluster(n_workers=20)\n",
    "cluster"
   ]
  },
  {
   "cell_type": "code",
   "execution_count": null,
   "metadata": {},
   "outputs": [],
   "source": [
    "client = Client(cluster)\n",
    "client"
   ]
  },
  {
   "cell_type": "code",
   "execution_count": null,
   "metadata": {},
   "outputs": [],
   "source": [
    "ds_SIT = intake.Catalog('./catalog.yaml').SIPN2_SIT.to_dask()\n",
    "ds_SIT"
   ]
  },
  {
   "cell_type": "code",
   "execution_count": null,
   "metadata": {},
   "outputs": [],
   "source": [
    "%time test_plot(ds_SIT)"
   ]
  }
 ],
 "metadata": {
  "kernelspec": {
   "display_name": "Python [conda env:conda]",
   "language": "python",
   "name": "conda-env-conda-py"
  },
  "language_info": {
   "codemirror_mode": {
    "name": "ipython",
    "version": 3
   },
   "file_extension": ".py",
   "mimetype": "text/x-python",
   "name": "python",
   "nbconvert_exporter": "python",
   "pygments_lexer": "ipython3",
   "version": "3.6.6"
  }
 },
 "nbformat": 4,
 "nbformat_minor": 2
}
